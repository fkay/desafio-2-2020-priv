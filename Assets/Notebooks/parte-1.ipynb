{
 "cells": [
  {
   "cell_type": "markdown",
   "metadata": {
    "collapsed": true
   },
   "source": [
    "# MARATONA BEHIND THE CODE 2020\n",
    "\n",
    "## DESAFIO 2: PARTE 1"
   ]
  },
  {
   "cell_type": "markdown",
   "metadata": {},
   "source": [
    "### Introdução"
   ]
  },
  {
   "cell_type": "markdown",
   "metadata": {},
   "source": [
    "Em projetos de ciência de dados visando a construção de modelos de *machine learning*, ou aprendizado estatístico, é muito incomum que os dados iniciais estejam já no formato ideal para a construção de modelos. São necessários vários passos intermediários de pré-processamento de dados, como por exemplo a codificação de variáveis categóricas, normalização de variáveis numéricas, tratamento de dados faltantes, etc. A biblioteca **scikit-learn** -- uma das mais populares bibliotecas de código-aberto para *machine learning* no mundo -- possui diversas funções já integradas para a realização das transformações de dados mais utilizadas. Entretanto, em um fluxo comum de um modelo de aprendizado de máquina, é necessária a aplicação dessas transformações pelo menos duas vezes: a primeira vez para \"treinar\" o modelo, e depois novamente quando novos dados forem enviados como entrada para serem classificados por este modelo. \n",
    "\n",
    "Para facilitar o trabalho com esse tipo de fluxo, o scikit-learn possui também uma ferramenta chamada **Pipeline**, que nada mais é do que uma lista ordenada de transformações que devem ser aplicadas nos dados. Para auxiliar no desenvolvimento e no gerenciamento de todo o ciclo-de-vida dessas aplicações, alem do uso de Pipelines, as equipes de cientistas de dados podem utilizar em conjunto o **Watson Machine Learning**, que possui dezenas de ferramentas para treinar, gerenciar, hospedar e avaliar modelos baseados em aprendizado de máquina. Além disso, o Watson Machine Learning é capaz de encapsular pipelines e modelos em uma API pronta para uso e integração com outras aplicações.\n",
    "\n",
    "Durante o desafio 2, você participante irá aprender a construir uma **Pipeline** para um modelo de classificação e hospedá-lo como uma API com o auxílio do Watson Machine Learning. Uma vez hospedado, você poderá integrar o modelo criado com outras aplicações, como assistentes virtuais e muito mais. Neste notebook, será apresentado um exemplo funcional de criação de um modelo e de uma pipeline no scikit-learn (que você poderá utilizar como template para a sua solução!)."
   ]
  },
  {
   "cell_type": "markdown",
   "metadata": {},
   "source": [
    "## ** ATENÇÃO **\n",
    "\n",
    "Este notebook serve apenas um propósito educativo, você pode alterar o código como quiser e nada aqui será avaliado/pontuado.\n",
    "\n",
    "A recomendação é que você experimente e teste diferentes algoritmos aqui antes de passar para a *parte-2*, onde será realizado o deploy do seu modelo no **Watson Machine Learning** :)"
   ]
  },
  {
   "cell_type": "markdown",
   "metadata": {},
   "source": [
    "### Trabalhando com Pipelines do scikit-learn"
   ]
  },
  {
   "cell_type": "code",
   "execution_count": null,
   "metadata": {},
   "outputs": [],
   "source": [
    "# Primeiro, realizamos a instalação do scikit-learn versão 0.20.3 e do xgboost versão 0.71 no Kernel deste notebook\n",
    "# ** CUIDADO AO TROCAR A VERSÃO DAS BIBLIOTECAS -- VERSÕES DIFERENTES PODEM SER INCOMPATÍVEIS COM O WATSON STUDIO **\n",
    "# OBS: A instalação do xgboost leva um tempo considerável\n",
    "!pip install scikit-learn==0.20.3 --upgrade\n",
    "!pip install xgboost==0.71 --upgrade"
   ]
  },
  {
   "cell_type": "code",
   "execution_count": 3,
   "metadata": {},
   "outputs": [],
   "source": [
    "# Em seguida iremos importar diversas bibliotecas que serão utilizadas:\n",
    "\n",
    "# Pacote para trabalhar com JSON\n",
    "import json\n",
    "\n",
    "# Pacote para realizar requisições HTTP\n",
    "import requests\n",
    "\n",
    "# Pacote para exploração e análise de dados\n",
    "import pandas as pd\n",
    "\n",
    "# Pacote com métodos numéricos e representações matriciais\n",
    "import numpy as np\n",
    "\n",
    "# Pacote para construção de modelo baseado na técnica Gradient Boosting\n",
    "import xgboost as xgb\n",
    "\n",
    "# Pacotes do scikit-learn para pré-processamento de dados\n",
    "# \"SimpleImputer\" é uma transformação para preencher valores faltantes em conjuntos de dados\n",
    "from sklearn.impute import SimpleImputer\n",
    "\n",
    "# Pacotes do scikit-learn para treinamento de modelos e construção de pipelines\n",
    "# Método para separação de conjunto de dados em amostras de treino e teste\n",
    "from sklearn.model_selection import train_test_split\n",
    "# Método para criação de modelos baseados em árvores de decisão\n",
    "from sklearn.tree import DecisionTreeClassifier\n",
    "# Classe para a criação de uma pipeline de machine-learning\n",
    "from sklearn.pipeline import Pipeline\n",
    "\n",
    "# Pacotes do scikit-learn para avaliação de modelos\n",
    "# Métodos para validação cruzada do modelo criado\n",
    "from sklearn.model_selection import KFold, cross_validate"
   ]
  },
  {
   "cell_type": "markdown",
   "metadata": {},
   "source": [
    "### Importando um .csv de seu projeto no IBM Cloud Pak for Data para o Kernel deste notebook"
   ]
  },
  {
   "cell_type": "markdown",
   "metadata": {},
   "source": [
    "Primeiro iremos importar o dataset fornecido para o desafio, que já está incluso neste projeto!\n",
    "\n",
    "Você pode realizar a importação dos dados de um arquivo .csv diretamente para o Kernel do notebook como um DataFrame da biblioteca Pandas, muito utilizada para a manipulação de dados em Python.\n",
    "\n",
    "Para realizar a importação, basta selecionar a próxima célula e seguir as instruções na imagem abaixo:\n",
    "\n",
    "![alt text](https://i.imgur.com/K1DwL9I.png \"importing-csv-as-df\")\n",
    "\n",
    "Após a seleção da opção **\"Insert to code\"**, a célula abaixo será preenchida com o código necessário para importação e leitura dos dados no arquivo .csv como um DataFrame Pandas."
   ]
  },
  {
   "cell_type": "code",
   "execution_count": 4,
   "metadata": {},
   "outputs": [
    {
     "data": {
      "text/html": [
       "<div>\n",
       "<style scoped>\n",
       "    .dataframe tbody tr th:only-of-type {\n",
       "        vertical-align: middle;\n",
       "    }\n",
       "\n",
       "    .dataframe tbody tr th {\n",
       "        vertical-align: top;\n",
       "    }\n",
       "\n",
       "    .dataframe thead th {\n",
       "        text-align: right;\n",
       "    }\n",
       "</style>\n",
       "<table border=\"1\" class=\"dataframe\">\n",
       "  <thead>\n",
       "    <tr style=\"text-align: right;\">\n",
       "      <th></th>\n",
       "      <th>MATRICULA</th>\n",
       "      <th>NOME</th>\n",
       "      <th>REPROVACOES_DE</th>\n",
       "      <th>REPROVACOES_EM</th>\n",
       "      <th>REPROVACOES_MF</th>\n",
       "      <th>REPROVACOES_GO</th>\n",
       "      <th>NOTA_DE</th>\n",
       "      <th>NOTA_EM</th>\n",
       "      <th>NOTA_MF</th>\n",
       "      <th>NOTA_GO</th>\n",
       "      <th>INGLES</th>\n",
       "      <th>H_AULA_PRES</th>\n",
       "      <th>TAREFAS_ONLINE</th>\n",
       "      <th>FALTAS</th>\n",
       "      <th>PERFIL</th>\n",
       "    </tr>\n",
       "  </thead>\n",
       "  <tbody>\n",
       "    <tr>\n",
       "      <th>0</th>\n",
       "      <td>502375</td>\n",
       "      <td>Márcia Illiglener</td>\n",
       "      <td>0</td>\n",
       "      <td>0</td>\n",
       "      <td>0</td>\n",
       "      <td>0</td>\n",
       "      <td>6.2</td>\n",
       "      <td>5.8</td>\n",
       "      <td>4.6</td>\n",
       "      <td>5.9</td>\n",
       "      <td>0.0</td>\n",
       "      <td>2</td>\n",
       "      <td>4</td>\n",
       "      <td>3</td>\n",
       "      <td>EXATAS</td>\n",
       "    </tr>\n",
       "    <tr>\n",
       "      <th>1</th>\n",
       "      <td>397093</td>\n",
       "      <td>Jason Jytereoman Izoimum</td>\n",
       "      <td>0</td>\n",
       "      <td>0</td>\n",
       "      <td>0</td>\n",
       "      <td>0</td>\n",
       "      <td>6.0</td>\n",
       "      <td>6.2</td>\n",
       "      <td>5.2</td>\n",
       "      <td>4.5</td>\n",
       "      <td>1.0</td>\n",
       "      <td>2</td>\n",
       "      <td>4</td>\n",
       "      <td>3</td>\n",
       "      <td>EXATAS</td>\n",
       "    </tr>\n",
       "    <tr>\n",
       "      <th>2</th>\n",
       "      <td>915288</td>\n",
       "      <td>Bartolomeu Inácio da Gama</td>\n",
       "      <td>0</td>\n",
       "      <td>0</td>\n",
       "      <td>0</td>\n",
       "      <td>0</td>\n",
       "      <td>7.3</td>\n",
       "      <td>6.7</td>\n",
       "      <td>7.1</td>\n",
       "      <td>7.2</td>\n",
       "      <td>0.0</td>\n",
       "      <td>5</td>\n",
       "      <td>0</td>\n",
       "      <td>3</td>\n",
       "      <td>HUMANAS</td>\n",
       "    </tr>\n",
       "    <tr>\n",
       "      <th>3</th>\n",
       "      <td>192652</td>\n",
       "      <td>Fernanda Guedes</td>\n",
       "      <td>1</td>\n",
       "      <td>3</td>\n",
       "      <td>1</td>\n",
       "      <td>1</td>\n",
       "      <td>0.0</td>\n",
       "      <td>0.0</td>\n",
       "      <td>0.0</td>\n",
       "      <td>0.0</td>\n",
       "      <td>1.0</td>\n",
       "      <td>4</td>\n",
       "      <td>4</td>\n",
       "      <td>4</td>\n",
       "      <td>DIFICULDADE</td>\n",
       "    </tr>\n",
       "    <tr>\n",
       "      <th>4</th>\n",
       "      <td>949491</td>\n",
       "      <td>Alessandre Borba Gomes</td>\n",
       "      <td>1</td>\n",
       "      <td>3</td>\n",
       "      <td>1</td>\n",
       "      <td>1</td>\n",
       "      <td>0.0</td>\n",
       "      <td>0.0</td>\n",
       "      <td>0.0</td>\n",
       "      <td>0.0</td>\n",
       "      <td>1.0</td>\n",
       "      <td>5</td>\n",
       "      <td>2</td>\n",
       "      <td>5</td>\n",
       "      <td>DIFICULDADE</td>\n",
       "    </tr>\n",
       "  </tbody>\n",
       "</table>\n",
       "</div>"
      ],
      "text/plain": [
       "   MATRICULA                       NOME  REPROVACOES_DE  REPROVACOES_EM  \\\n",
       "0     502375          Márcia Illiglener               0               0   \n",
       "1     397093   Jason Jytereoman Izoimum               0               0   \n",
       "2     915288  Bartolomeu Inácio da Gama               0               0   \n",
       "3     192652            Fernanda Guedes               1               3   \n",
       "4     949491     Alessandre Borba Gomes               1               3   \n",
       "\n",
       "   REPROVACOES_MF  REPROVACOES_GO  NOTA_DE  NOTA_EM  NOTA_MF  NOTA_GO  INGLES  \\\n",
       "0               0               0      6.2      5.8      4.6      5.9     0.0   \n",
       "1               0               0      6.0      6.2      5.2      4.5     1.0   \n",
       "2               0               0      7.3      6.7      7.1      7.2     0.0   \n",
       "3               1               1      0.0      0.0      0.0      0.0     1.0   \n",
       "4               1               1      0.0      0.0      0.0      0.0     1.0   \n",
       "\n",
       "   H_AULA_PRES  TAREFAS_ONLINE  FALTAS       PERFIL  \n",
       "0            2               4       3       EXATAS  \n",
       "1            2               4       3       EXATAS  \n",
       "2            5               0       3      HUMANAS  \n",
       "3            4               4       4  DIFICULDADE  \n",
       "4            5               2       5  DIFICULDADE  "
      ]
     },
     "execution_count": 4,
     "metadata": {},
     "output_type": "execute_result"
    }
   ],
   "source": [
    "\n",
    "#<< INSIRA O DATASET COMO UM PANDAS DATAFRAME NESTA CÉLULA! >>>\n",
    "df_data_1 = pd.read_csv(\"../Data/dataset_desafio_2.csv\")\n",
    "df_data_1.head()"
   ]
  },
  {
   "cell_type": "markdown",
   "metadata": {},
   "source": [
    "Temos 15 colunas presentes no dataset fornecido, sendo dezessete delas variáveis características (dados de entrada) e um delas uma variável-alvo (que queremos que o nosso modelo seja capaz de prever). \n",
    "\n",
    "As variáveis características são:\n",
    "\n",
    "    MATRICULA       - número de matrícula do estudante\n",
    "    NOME            - nome completo do estudante\n",
    "    REPROVACOES_DE  - número de reprovações na disciplina de ``Direito Empresarial``\n",
    "    REPROVACOES_EM  - número de reprovações na disciplina de ``Empreendedorismo``\n",
    "    REPROVACOES_MF  - número de reprovações na disciplina de ``Matemática Financeira``\n",
    "    REPROVACOES_GO  - número de reprovações na disciplina de ``Gestão Operacional``\n",
    "    NOTA_DE         - média simples das notas do aluno na disciplina de ``Direito Empresarial`` (0-10)\n",
    "    NOTA_EM         - média simples das notas do aluno na disciplina de ``Empreendedorismo`` (0-10)\n",
    "    NOTA_MF         - média simples das notas do aluno na disciplina de ``Matemática Financeira`` (0-10)\n",
    "    NOTA_GO         - média simples das notas do aluno na disciplina de ``Gestão Operacional`` (0-10)\n",
    "    INGLES          - variável binária que indica se o estudante tem conhecimento em língua inglesa (0 -> sim ou 1 -> não).\n",
    "    H_AULA_PRES     - horas de estudo presencial realizadas pelo estudante\n",
    "    TAREFAS_ONLINE  - número de tarefas online entregues pelo estudante\n",
    "    FALTAS          - número de faltas acumuladas do estudante (todas disciplinas)\n",
    "    \n",
    "A variável-alvo é:\n",
    "\n",
    "    PERFIL               - uma *string* que indica uma de cinco possibilidades: \n",
    "        \"EXCELENTE\"      - Estudante não necessita de mentoria\n",
    "        \"MUITO BOM\"      - Estudante não necessita de mentoria\n",
    "        \"HUMANAS\"        - Estudante necessita de mentoria exclusivamente em matérias com conteúdo de ciências humanas\n",
    "        \"EXATAS\"         - Estudante necessita de mentoria apenas em disciplinas com conteúdo de ciências exatas\n",
    "        \"DIFICULDADE\"    - Estudante necessita de mentoria em duas ou mais disciplinas\n",
    "        \n",
    "Com um modelo capaz de classificar um estudante em uma dessas categorias, podemos automatizar parte da mentoria estudantil através de assistentes virtuais, que serão capazes de recomendar práticas de estudo e conteúdo personalizado com base nas necessidades de cada aluno."
   ]
  },
  {
   "cell_type": "markdown",
   "metadata": {},
   "source": [
    "### Explorando os dados fornecidos\n",
    "\n",
    "Podemos continuar a exploração dos dados fornecidos com a função ``info()``:"
   ]
  },
  {
   "cell_type": "code",
   "execution_count": 5,
   "metadata": {},
   "outputs": [
    {
     "name": "stdout",
     "output_type": "stream",
     "text": [
      "<class 'pandas.core.frame.DataFrame'>\n",
      "RangeIndex: 20000 entries, 0 to 19999\n",
      "Data columns (total 15 columns):\n",
      " #   Column          Non-Null Count  Dtype  \n",
      "---  ------          --------------  -----  \n",
      " 0   MATRICULA       20000 non-null  int64  \n",
      " 1   NOME            20000 non-null  object \n",
      " 2   REPROVACOES_DE  20000 non-null  int64  \n",
      " 3   REPROVACOES_EM  20000 non-null  int64  \n",
      " 4   REPROVACOES_MF  20000 non-null  int64  \n",
      " 5   REPROVACOES_GO  20000 non-null  int64  \n",
      " 6   NOTA_DE         20000 non-null  float64\n",
      " 7   NOTA_EM         20000 non-null  float64\n",
      " 8   NOTA_MF         20000 non-null  float64\n",
      " 9   NOTA_GO         16284 non-null  float64\n",
      " 10  INGLES          16372 non-null  float64\n",
      " 11  H_AULA_PRES     20000 non-null  int64  \n",
      " 12  TAREFAS_ONLINE  20000 non-null  int64  \n",
      " 13  FALTAS          20000 non-null  int64  \n",
      " 14  PERFIL          20000 non-null  object \n",
      "dtypes: float64(5), int64(8), object(2)\n",
      "memory usage: 2.3+ MB\n"
     ]
    }
   ],
   "source": [
    "df_data_1.info()"
   ]
  },
  {
   "cell_type": "markdown",
   "metadata": {},
   "source": [
    "É notado que existem variáveis do tipo ``float64`` (números \"decimais\"), variáveis do tipo ``int64`` (números inteiros) e do tipo ``object`` (nesse caso são *strings*, ou texto). \n",
    "\n",
    "Como a maioria dos algoritmos de aprendizado estatístico supervisionado só aceita valores numéricos como entrada, é necessário então o pré-processamento das variáveis do tipo \"object\" antes de usar esse dataset como entrada para o treinamento de um modelo. Também é notado que existem valores faltantes em várias colunas. Esses valores faltantes também devem ser tratados antes de serem construídos modelos com esse conjunto de dados base."
   ]
  },
  {
   "cell_type": "markdown",
   "metadata": {},
   "source": [
    "A função ``describe()`` gera várias informações sobre as variáveis numéricas que também podem ser úteis:"
   ]
  },
  {
   "cell_type": "code",
   "execution_count": 6,
   "metadata": {},
   "outputs": [
    {
     "data": {
      "text/html": [
       "<div>\n",
       "<style scoped>\n",
       "    .dataframe tbody tr th:only-of-type {\n",
       "        vertical-align: middle;\n",
       "    }\n",
       "\n",
       "    .dataframe tbody tr th {\n",
       "        vertical-align: top;\n",
       "    }\n",
       "\n",
       "    .dataframe thead th {\n",
       "        text-align: right;\n",
       "    }\n",
       "</style>\n",
       "<table border=\"1\" class=\"dataframe\">\n",
       "  <thead>\n",
       "    <tr style=\"text-align: right;\">\n",
       "      <th></th>\n",
       "      <th>MATRICULA</th>\n",
       "      <th>REPROVACOES_DE</th>\n",
       "      <th>REPROVACOES_EM</th>\n",
       "      <th>REPROVACOES_MF</th>\n",
       "      <th>REPROVACOES_GO</th>\n",
       "      <th>NOTA_DE</th>\n",
       "      <th>NOTA_EM</th>\n",
       "      <th>NOTA_MF</th>\n",
       "      <th>NOTA_GO</th>\n",
       "      <th>INGLES</th>\n",
       "      <th>H_AULA_PRES</th>\n",
       "      <th>TAREFAS_ONLINE</th>\n",
       "      <th>FALTAS</th>\n",
       "    </tr>\n",
       "  </thead>\n",
       "  <tbody>\n",
       "    <tr>\n",
       "      <th>count</th>\n",
       "      <td>20000.000000</td>\n",
       "      <td>20000.000000</td>\n",
       "      <td>20000.000000</td>\n",
       "      <td>20000.000000</td>\n",
       "      <td>20000.000000</td>\n",
       "      <td>20000.000000</td>\n",
       "      <td>20000.000000</td>\n",
       "      <td>20000.000000</td>\n",
       "      <td>16284.000000</td>\n",
       "      <td>16372.000000</td>\n",
       "      <td>20000.000000</td>\n",
       "      <td>20000.000000</td>\n",
       "      <td>20000.000000</td>\n",
       "    </tr>\n",
       "    <tr>\n",
       "      <th>mean</th>\n",
       "      <td>551148.271400</td>\n",
       "      <td>0.242850</td>\n",
       "      <td>0.242850</td>\n",
       "      <td>0.297650</td>\n",
       "      <td>0.293350</td>\n",
       "      <td>5.196560</td>\n",
       "      <td>5.080285</td>\n",
       "      <td>4.817630</td>\n",
       "      <td>4.534101</td>\n",
       "      <td>0.646286</td>\n",
       "      <td>5.102950</td>\n",
       "      <td>3.140300</td>\n",
       "      <td>4.060600</td>\n",
       "    </tr>\n",
       "    <tr>\n",
       "      <th>std</th>\n",
       "      <td>259488.766584</td>\n",
       "      <td>0.615055</td>\n",
       "      <td>0.615055</td>\n",
       "      <td>0.672813</td>\n",
       "      <td>0.661829</td>\n",
       "      <td>2.522545</td>\n",
       "      <td>2.523928</td>\n",
       "      <td>2.734775</td>\n",
       "      <td>2.509209</td>\n",
       "      <td>0.478136</td>\n",
       "      <td>4.118422</td>\n",
       "      <td>1.854909</td>\n",
       "      <td>1.674714</td>\n",
       "    </tr>\n",
       "    <tr>\n",
       "      <th>min</th>\n",
       "      <td>100003.000000</td>\n",
       "      <td>0.000000</td>\n",
       "      <td>0.000000</td>\n",
       "      <td>0.000000</td>\n",
       "      <td>0.000000</td>\n",
       "      <td>0.000000</td>\n",
       "      <td>0.000000</td>\n",
       "      <td>0.000000</td>\n",
       "      <td>0.000000</td>\n",
       "      <td>0.000000</td>\n",
       "      <td>0.000000</td>\n",
       "      <td>0.000000</td>\n",
       "      <td>1.000000</td>\n",
       "    </tr>\n",
       "    <tr>\n",
       "      <th>25%</th>\n",
       "      <td>326554.250000</td>\n",
       "      <td>0.000000</td>\n",
       "      <td>0.000000</td>\n",
       "      <td>0.000000</td>\n",
       "      <td>0.000000</td>\n",
       "      <td>5.200000</td>\n",
       "      <td>4.900000</td>\n",
       "      <td>4.700000</td>\n",
       "      <td>4.500000</td>\n",
       "      <td>0.000000</td>\n",
       "      <td>2.000000</td>\n",
       "      <td>2.000000</td>\n",
       "      <td>3.000000</td>\n",
       "    </tr>\n",
       "    <tr>\n",
       "      <th>50%</th>\n",
       "      <td>550630.000000</td>\n",
       "      <td>0.000000</td>\n",
       "      <td>0.000000</td>\n",
       "      <td>0.000000</td>\n",
       "      <td>0.000000</td>\n",
       "      <td>6.200000</td>\n",
       "      <td>5.900000</td>\n",
       "      <td>5.500000</td>\n",
       "      <td>5.400000</td>\n",
       "      <td>1.000000</td>\n",
       "      <td>4.000000</td>\n",
       "      <td>3.000000</td>\n",
       "      <td>4.000000</td>\n",
       "    </tr>\n",
       "    <tr>\n",
       "      <th>75%</th>\n",
       "      <td>775524.750000</td>\n",
       "      <td>0.000000</td>\n",
       "      <td>0.000000</td>\n",
       "      <td>0.000000</td>\n",
       "      <td>0.000000</td>\n",
       "      <td>6.700000</td>\n",
       "      <td>6.700000</td>\n",
       "      <td>6.500000</td>\n",
       "      <td>6.200000</td>\n",
       "      <td>1.000000</td>\n",
       "      <td>6.000000</td>\n",
       "      <td>5.000000</td>\n",
       "      <td>6.000000</td>\n",
       "    </tr>\n",
       "    <tr>\n",
       "      <th>max</th>\n",
       "      <td>999995.000000</td>\n",
       "      <td>3.000000</td>\n",
       "      <td>3.000000</td>\n",
       "      <td>3.000000</td>\n",
       "      <td>3.000000</td>\n",
       "      <td>9.000000</td>\n",
       "      <td>9.400000</td>\n",
       "      <td>11.500000</td>\n",
       "      <td>10.000000</td>\n",
       "      <td>1.000000</td>\n",
       "      <td>25.000000</td>\n",
       "      <td>7.000000</td>\n",
       "      <td>8.000000</td>\n",
       "    </tr>\n",
       "  </tbody>\n",
       "</table>\n",
       "</div>"
      ],
      "text/plain": [
       "           MATRICULA  REPROVACOES_DE  REPROVACOES_EM  REPROVACOES_MF  \\\n",
       "count   20000.000000    20000.000000    20000.000000    20000.000000   \n",
       "mean   551148.271400        0.242850        0.242850        0.297650   \n",
       "std    259488.766584        0.615055        0.615055        0.672813   \n",
       "min    100003.000000        0.000000        0.000000        0.000000   \n",
       "25%    326554.250000        0.000000        0.000000        0.000000   \n",
       "50%    550630.000000        0.000000        0.000000        0.000000   \n",
       "75%    775524.750000        0.000000        0.000000        0.000000   \n",
       "max    999995.000000        3.000000        3.000000        3.000000   \n",
       "\n",
       "       REPROVACOES_GO       NOTA_DE       NOTA_EM       NOTA_MF       NOTA_GO  \\\n",
       "count    20000.000000  20000.000000  20000.000000  20000.000000  16284.000000   \n",
       "mean         0.293350      5.196560      5.080285      4.817630      4.534101   \n",
       "std          0.661829      2.522545      2.523928      2.734775      2.509209   \n",
       "min          0.000000      0.000000      0.000000      0.000000      0.000000   \n",
       "25%          0.000000      5.200000      4.900000      4.700000      4.500000   \n",
       "50%          0.000000      6.200000      5.900000      5.500000      5.400000   \n",
       "75%          0.000000      6.700000      6.700000      6.500000      6.200000   \n",
       "max          3.000000      9.000000      9.400000     11.500000     10.000000   \n",
       "\n",
       "             INGLES   H_AULA_PRES  TAREFAS_ONLINE        FALTAS  \n",
       "count  16372.000000  20000.000000    20000.000000  20000.000000  \n",
       "mean       0.646286      5.102950        3.140300      4.060600  \n",
       "std        0.478136      4.118422        1.854909      1.674714  \n",
       "min        0.000000      0.000000        0.000000      1.000000  \n",
       "25%        0.000000      2.000000        2.000000      3.000000  \n",
       "50%        1.000000      4.000000        3.000000      4.000000  \n",
       "75%        1.000000      6.000000        5.000000      6.000000  \n",
       "max        1.000000     25.000000        7.000000      8.000000  "
      ]
     },
     "execution_count": 6,
     "metadata": {},
     "output_type": "execute_result"
    }
   ],
   "source": [
    "df_data_1.describe()"
   ]
  },
  {
   "cell_type": "markdown",
   "metadata": {},
   "source": [
    "### Visualizações\n",
    "\n",
    "Para visualizar o dataset fornecido, podemos utilizar as bibliotecas ``matplotlib`` e ``seaborn``:"
   ]
  },
  {
   "cell_type": "code",
   "execution_count": 8,
   "metadata": {},
   "outputs": [],
   "source": [
    "import matplotlib.pyplot as plt\n",
    "import seaborn as sns\n",
    "%matplotlib inline"
   ]
  },
  {
   "cell_type": "code",
   "execution_count": 9,
   "metadata": {},
   "outputs": [
    {
     "data": {
      "text/plain": [
       "<AxesSubplot:xlabel='REPROVACOES_GO', ylabel='count'>"
      ]
     },
     "execution_count": 9,
     "metadata": {},
     "output_type": "execute_result"
    },
    {
     "data": {
      "image/png": "[encoded data removed]",
      "text/plain": [
       "<Figure size 2016x288 with 4 Axes>"
      ]
     },
     "metadata": {
      "needs_background": "light"
     },
     "output_type": "display_data"
    }
   ],
   "source": [
    "fig, axes = plt.subplots(nrows=1, ncols=4, figsize=(28, 4))\n",
    "\n",
    "sns.countplot(ax=axes[0], x='REPROVACOES_DE', data=df_data_1)\n",
    "sns.countplot(ax=axes[1], x='REPROVACOES_EM', data=df_data_1)\n",
    "sns.countplot(ax=axes[2], x='REPROVACOES_MF', data=df_data_1)\n",
    "sns.countplot(ax=axes[3], x='REPROVACOES_GO', data=df_data_1)"
   ]
  },
  {
   "cell_type": "code",
   "execution_count": 10,
   "metadata": {},
   "outputs": [
    {
     "data": {
      "text/plain": [
       "<AxesSubplot:xlabel='NOTA_GO'>"
      ]
     },
     "execution_count": 10,
     "metadata": {},
     "output_type": "execute_result"
    },
    {
     "data": {
      "image/png": "[encoded data removed]",
      "text/plain": [
       "<Figure size 2016x288 with 4 Axes>"
      ]
     },
     "metadata": {
      "needs_background": "light"
     },
     "output_type": "display_data"
    }
   ],
   "source": [
    "fig, axes = plt.subplots(nrows=1, ncols=4, figsize=(28, 4))\n",
    "\n",
    "sns.distplot(df_data_1['NOTA_DE'], ax=axes[0])\n",
    "sns.distplot(df_data_1['NOTA_EM'], ax=axes[1])\n",
    "sns.distplot(df_data_1['NOTA_MF'], ax=axes[2])\n",
    "sns.distplot(df_data_1['NOTA_GO'].dropna(), ax=axes[3])"
   ]
  },
  {
   "cell_type": "code",
   "execution_count": 11,
   "metadata": {
    "scrolled": true
   },
   "outputs": [
    {
     "data": {
      "text/plain": [
       "<AxesSubplot:xlabel='TAREFAS_ONLINE', ylabel='count'>"
      ]
     },
     "execution_count": 11,
     "metadata": {},
     "output_type": "execute_result"
    },
    {
     "data": {
      "image/png": "[encoded data removed]",
      "text/plain": [
       "<Figure size 2016x288 with 4 Axes>"
      ]
     },
     "metadata": {
      "needs_background": "light"
     },
     "output_type": "display_data"
    }
   ],
   "source": [
    "fig, axes = plt.subplots(nrows=1, ncols=4, figsize=(28, 4))\n",
    "\n",
    "sns.countplot(ax=axes[0], x='INGLES', data=df_data_1)\n",
    "sns.countplot(ax=axes[1], x='FALTAS', data=df_data_1)\n",
    "sns.countplot(ax=axes[2], x='H_AULA_PRES', data=df_data_1)\n",
    "sns.countplot(ax=axes[3], x='TAREFAS_ONLINE', data=df_data_1)"
   ]
  },
  {
   "cell_type": "code",
   "execution_count": 12,
   "metadata": {},
   "outputs": [
    {
     "data": {
      "text/plain": [
       "<AxesSubplot:xlabel='PERFIL', ylabel='count'>"
      ]
     },
     "execution_count": 12,
     "metadata": {},
     "output_type": "execute_result"
    },
    {
     "data": {
      "image/png": "[encoded data removed]",
      "text/plain": [
       "<Figure size 432x288 with 1 Axes>"
      ]
     },
     "metadata": {
      "needs_background": "light"
     },
     "output_type": "display_data"
    }
   ],
   "source": [
    "fig = plt.plot()\n",
    "sns.countplot(x='PERFIL', data=df_data_1)"
   ]
  },
  {
   "cell_type": "markdown",
   "metadata": {},
   "source": [
    "## ** ATENÇÃO **\n",
    "\n",
    "Você pode notar pela figura acima que este dataset é desbalanceado, isto é, a quantidade de amostras para cada classe que desejamos classificar é bem discrepante. O participante é livre para adicionar ou remover **LINHAS** no dataset fornecido, inclusive utilizar bibliotecas para balanceamento com ``imblearn``. Entretanto tome **muito cuidado**!!! Você não pode alterar os tipos dos dados e nem remover ou desordenar o dataset fornecido. Todas as operações desse tipo deverão ser feitas por meio de Transforms do scikit-learn :)\n",
    "\n",
    "<hr>"
   ]
  },
  {
   "cell_type": "markdown",
   "metadata": {},
   "source": [
    "### Realizando o pré-processamento dos dados"
   ]
  },
  {
   "cell_type": "markdown",
   "metadata": {},
   "source": [
    "Para o pré-processamento dos dados serão apresentadas duas transformações básicas neste notebook, demonstrando a construção de uma Pipeline com um modelo funcional. Esta Pipeline funcional fornecida deverá ser melhorada pelo participante para que o modelo final alcance a maior acurácia possível, garantindo uma pontuação maior no desafio. Essa melhoria pode ser feita apenas no pré-processamento dos dados, na escolha de um algoritmo para treinamento de modelo diferente, ou até mesmo na alteração do *framework* usado (entretanto só será fornecido um exemplo pronto de integração do Watson Machine Learning com o *scikit-learn*).\n",
    "\n",
    "A primeira transformação (passo na nossa Pipeline) será a exclusão da coluna \"NOME\" do nosso dataset, que além de não ser uma variável numérica, também não é uma variável relacionada ao desempenho dos estudantes nas disciplinas. Existem funções prontas no scikit-learn para a realização dessa transformação, entretanto nosso exemplo irá demonstrar como criar uma transformação personalizada do zero no scikit-learn. Se desejado, o participante poderá utilizar esse exemplo para criar outras transformações e adicioná-las à Pipeline final :)"
   ]
  },
  {
   "cell_type": "markdown",
   "metadata": {},
   "source": [
    "#### Transformação 1: excluindo colunas do dataset\n",
    "\n",
    "Para a criação de uma transformação de dados personalizada no scikit-learn, é necessária basicamente a criação de uma classe com os métodos ``transform`` e ``fit``. No método transform será executada a lógica da nossa transformação.\n",
    "\n",
    "Na próxima célula é apresentado o código completo de uma transformação ``DropColumns`` para a remoção de colunas de um DataFrame pandas."
   ]
  },
  {
   "cell_type": "code",
   "execution_count": 13,
   "metadata": {},
   "outputs": [],
   "source": [
    "from sklearn.base import BaseEstimator, TransformerMixin\n",
    "\n",
    "\n",
    "# All sklearn Transforms must have the `transform` and `fit` methods\n",
    "class DropColumns(BaseEstimator, TransformerMixin):\n",
    "    def __init__(self, columns):\n",
    "        self.columns = columns\n",
    "\n",
    "    def fit(self, X, y=None):\n",
    "        return self\n",
    "    \n",
    "    def transform(self, X):\n",
    "        # Primeiro realizamos a cópia do dataframe 'X' de entrada\n",
    "        data = X.copy()\n",
    "        # Retornamos um novo dataframe sem as colunas indesejadas\n",
    "        return data.drop(labels=self.columns, axis='columns')"
   ]
  },
  {
   "cell_type": "markdown",
   "metadata": {},
   "source": [
    "Para aplicar essa transformação em um DataFrame pandas, basta instanciar um objeto *DropColumns* e chamar o método transform()."
   ]
  },
  {
   "cell_type": "code",
   "execution_count": 14,
   "metadata": {},
   "outputs": [
    {
     "name": "stdout",
     "output_type": "stream",
     "text": [
      "DropColumns(columns=['NOME'])\n"
     ]
    }
   ],
   "source": [
    "# Instanciando uma transformação DropColumns\n",
    "rm_columns = DropColumns(\n",
    "    columns=[\"NOME\"]  # Essa transformação recebe como parâmetro uma lista com os nomes das colunas indesejadas\n",
    ")\n",
    "\n",
    "print(rm_columns)"
   ]
  },
  {
   "cell_type": "code",
   "execution_count": 15,
   "metadata": {},
   "outputs": [
    {
     "name": "stdout",
     "output_type": "stream",
     "text": [
      "Colunas do dataset original: \n",
      "\n",
      "Index(['MATRICULA', 'NOME', 'REPROVACOES_DE', 'REPROVACOES_EM',\n",
      "       'REPROVACOES_MF', 'REPROVACOES_GO', 'NOTA_DE', 'NOTA_EM', 'NOTA_MF',\n",
      "       'NOTA_GO', 'INGLES', 'H_AULA_PRES', 'TAREFAS_ONLINE', 'FALTAS',\n",
      "       'PERFIL'],\n",
      "      dtype='object')\n"
     ]
    }
   ],
   "source": [
    "# Visualizando as colunas do dataset original\n",
    "print(\"Colunas do dataset original: \\n\")\n",
    "print(df_data_1.columns)"
   ]
  },
  {
   "cell_type": "code",
   "execution_count": 16,
   "metadata": {},
   "outputs": [],
   "source": [
    "# Aplicando a transformação ``DropColumns`` ao conjunto de dados base\n",
    "rm_columns.fit(X=df_data_1)\n",
    "\n",
    "# Reconstruindo um DataFrame Pandas com o resultado da transformação\n",
    "df_data_2 = pd.DataFrame.from_records(\n",
    "    data=rm_columns.transform(\n",
    "        X=df_data_1\n",
    "    ),\n",
    ")"
   ]
  },
  {
   "cell_type": "code",
   "execution_count": 17,
   "metadata": {},
   "outputs": [
    {
     "name": "stdout",
     "output_type": "stream",
     "text": [
      "Colunas do dataset após a transformação ``DropColumns``: \n",
      "\n",
      "Index(['MATRICULA', 'REPROVACOES_DE', 'REPROVACOES_EM', 'REPROVACOES_MF',\n",
      "       'REPROVACOES_GO', 'NOTA_DE', 'NOTA_EM', 'NOTA_MF', 'NOTA_GO', 'INGLES',\n",
      "       'H_AULA_PRES', 'TAREFAS_ONLINE', 'FALTAS', 'PERFIL'],\n",
      "      dtype='object')\n"
     ]
    }
   ],
   "source": [
    "# Visualizando as colunas do dataset transformado\n",
    "print(\"Colunas do dataset após a transformação ``DropColumns``: \\n\")\n",
    "print(df_data_2.columns)"
   ]
  },
  {
   "cell_type": "markdown",
   "metadata": {},
   "source": [
    "Nota-se que a coluna \"NOME\" foi removida e nosso dataset agora poossui apenas 17 colunas."
   ]
  },
  {
   "cell_type": "markdown",
   "metadata": {},
   "source": [
    "#### Transformação 2: tratando dados faltantes\n",
    "\n",
    "Para tratar os dados faltantes em nosso conjunto de dados, iremos agora utilizar uma transformação pronta da biblioteca scikit-learn, chamada **SimpleImputer**.\n",
    "\n",
    "Essa transformação permite diversas estratégias para o tratamento de dados faltantes. A documentação oficial pode ser encontrada em: https://scikit-learn.org/stable/modules/generated/sklearn.impute.SimpleImputer.html\n",
    "\n",
    "Neste exemplo iremos simplesmente transformar todos os valores faltantes em zero."
   ]
  },
  {
   "cell_type": "code",
   "execution_count": 18,
   "metadata": {},
   "outputs": [],
   "source": [
    "# Criação de um objeto ``SimpleImputer``\n",
    "si = SimpleImputer(\n",
    "    missing_values=np.nan,  # os valores faltantes são do tipo ``np.nan`` (padrão Pandas)\n",
    "    strategy='constant',  # a estratégia escolhida é a alteração do valor faltante por uma constante\n",
    "    fill_value=0,  # a constante que será usada para preenchimento dos valores faltantes é um int64=0.\n",
    "    verbose=0,\n",
    "    copy=True\n",
    ")"
   ]
  },
  {
   "cell_type": "code",
   "execution_count": 19,
   "metadata": {},
   "outputs": [
    {
     "name": "stdout",
     "output_type": "stream",
     "text": [
      "Valores nulos antes da transformação SimpleImputer: \n",
      "\n",
      "MATRICULA            0\n",
      "REPROVACOES_DE       0\n",
      "REPROVACOES_EM       0\n",
      "REPROVACOES_MF       0\n",
      "REPROVACOES_GO       0\n",
      "NOTA_DE              0\n",
      "NOTA_EM              0\n",
      "NOTA_MF              0\n",
      "NOTA_GO           3716\n",
      "INGLES            3628\n",
      "H_AULA_PRES          0\n",
      "TAREFAS_ONLINE       0\n",
      "FALTAS               0\n",
      "PERFIL               0\n",
      "dtype: int64\n",
      "\n"
     ]
    }
   ],
   "source": [
    "# Visualizando os dados faltantes do dataset após a primeira transformação (df_data_2)\n",
    "print(\"Valores nulos antes da transformação SimpleImputer: \\n\\n{}\\n\".format(df_data_2.isnull().sum(axis = 0)))"
   ]
  },
  {
   "cell_type": "code",
   "execution_count": 20,
   "metadata": {},
   "outputs": [],
   "source": [
    "# Aplicamos o SimpleImputer ``si`` ao conjunto de dados df_data_2 (resultado da primeira transformação)\n",
    "si.fit(X=df_data_2)\n",
    "\n",
    "# Reconstrução de um novo DataFrame Pandas com o conjunto imputado (df_data_3)\n",
    "df_data_3 = pd.DataFrame.from_records(\n",
    "    data=si.transform(\n",
    "        X=df_data_2\n",
    "    ),  # o resultado SimpleImputer.transform(<<pandas dataframe>>) é lista de listas\n",
    "    columns=df_data_2.columns  # as colunas originais devem ser conservadas nessa transformação\n",
    ")"
   ]
  },
  {
   "cell_type": "code",
   "execution_count": 21,
   "metadata": {},
   "outputs": [
    {
     "name": "stdout",
     "output_type": "stream",
     "text": [
      "Valores nulos no dataset após a transformação SimpleImputer: \n",
      "\n",
      "MATRICULA         0\n",
      "REPROVACOES_DE    0\n",
      "REPROVACOES_EM    0\n",
      "REPROVACOES_MF    0\n",
      "REPROVACOES_GO    0\n",
      "NOTA_DE           0\n",
      "NOTA_EM           0\n",
      "NOTA_MF           0\n",
      "NOTA_GO           0\n",
      "INGLES            0\n",
      "H_AULA_PRES       0\n",
      "TAREFAS_ONLINE    0\n",
      "FALTAS            0\n",
      "PERFIL            0\n",
      "dtype: int64\n",
      "\n"
     ]
    }
   ],
   "source": [
    "# Visualizando os dados faltantes do dataset após a segunda transformação (SimpleImputer) (df_data_3)\n",
    "print(\"Valores nulos no dataset após a transformação SimpleImputer: \\n\\n{}\\n\".format(df_data_3.isnull().sum(axis = 0)))"
   ]
  },
  {
   "cell_type": "markdown",
   "metadata": {},
   "source": [
    "Nota-se que não temos mais nenhum valor faltante no nosso conjunto de dados :)\n",
    "\n",
    "Vale salientar que nem sempre a alteração dos valores faltantes por 0 é a melhor estratégia. O participante é incentivado a estudar e implementar estratégias diferentes de tratamento dos valores faltantes para aprimorar seu modelo e melhorar sua pontuação final."
   ]
  },
  {
   "cell_type": "markdown",
   "metadata": {},
   "source": [
    "### Treinando um modelo de classificação"
   ]
  },
  {
   "cell_type": "markdown",
   "metadata": {},
   "source": [
    "Finalizado o pré-processamento, já temos o conjunto de dados no formato necessário para o treinamento do nosso modelo:"
   ]
  },
  {
   "cell_type": "code",
   "execution_count": 22,
   "metadata": {},
   "outputs": [
    {
     "data": {
      "text/html": [
       "<div>\n",
       "<style scoped>\n",
       "    .dataframe tbody tr th:only-of-type {\n",
       "        vertical-align: middle;\n",
       "    }\n",
       "\n",
       "    .dataframe tbody tr th {\n",
       "        vertical-align: top;\n",
       "    }\n",
       "\n",
       "    .dataframe thead th {\n",
       "        text-align: right;\n",
       "    }\n",
       "</style>\n",
       "<table border=\"1\" class=\"dataframe\">\n",
       "  <thead>\n",
       "    <tr style=\"text-align: right;\">\n",
       "      <th></th>\n",
       "      <th>MATRICULA</th>\n",
       "      <th>REPROVACOES_DE</th>\n",
       "      <th>REPROVACOES_EM</th>\n",
       "      <th>REPROVACOES_MF</th>\n",
       "      <th>REPROVACOES_GO</th>\n",
       "      <th>NOTA_DE</th>\n",
       "      <th>NOTA_EM</th>\n",
       "      <th>NOTA_MF</th>\n",
       "      <th>NOTA_GO</th>\n",
       "      <th>INGLES</th>\n",
       "      <th>H_AULA_PRES</th>\n",
       "      <th>TAREFAS_ONLINE</th>\n",
       "      <th>FALTAS</th>\n",
       "      <th>PERFIL</th>\n",
       "    </tr>\n",
       "  </thead>\n",
       "  <tbody>\n",
       "    <tr>\n",
       "      <th>0</th>\n",
       "      <td>502375</td>\n",
       "      <td>0</td>\n",
       "      <td>0</td>\n",
       "      <td>0</td>\n",
       "      <td>0</td>\n",
       "      <td>6.2</td>\n",
       "      <td>5.8</td>\n",
       "      <td>4.6</td>\n",
       "      <td>5.9</td>\n",
       "      <td>0.0</td>\n",
       "      <td>2</td>\n",
       "      <td>4</td>\n",
       "      <td>3</td>\n",
       "      <td>EXATAS</td>\n",
       "    </tr>\n",
       "    <tr>\n",
       "      <th>1</th>\n",
       "      <td>397093</td>\n",
       "      <td>0</td>\n",
       "      <td>0</td>\n",
       "      <td>0</td>\n",
       "      <td>0</td>\n",
       "      <td>6.0</td>\n",
       "      <td>6.2</td>\n",
       "      <td>5.2</td>\n",
       "      <td>4.5</td>\n",
       "      <td>1.0</td>\n",
       "      <td>2</td>\n",
       "      <td>4</td>\n",
       "      <td>3</td>\n",
       "      <td>EXATAS</td>\n",
       "    </tr>\n",
       "    <tr>\n",
       "      <th>2</th>\n",
       "      <td>915288</td>\n",
       "      <td>0</td>\n",
       "      <td>0</td>\n",
       "      <td>0</td>\n",
       "      <td>0</td>\n",
       "      <td>7.3</td>\n",
       "      <td>6.7</td>\n",
       "      <td>7.1</td>\n",
       "      <td>7.2</td>\n",
       "      <td>0.0</td>\n",
       "      <td>5</td>\n",
       "      <td>0</td>\n",
       "      <td>3</td>\n",
       "      <td>HUMANAS</td>\n",
       "    </tr>\n",
       "    <tr>\n",
       "      <th>3</th>\n",
       "      <td>192652</td>\n",
       "      <td>1</td>\n",
       "      <td>3</td>\n",
       "      <td>1</td>\n",
       "      <td>1</td>\n",
       "      <td>0.0</td>\n",
       "      <td>0.0</td>\n",
       "      <td>0.0</td>\n",
       "      <td>0.0</td>\n",
       "      <td>1.0</td>\n",
       "      <td>4</td>\n",
       "      <td>4</td>\n",
       "      <td>4</td>\n",
       "      <td>DIFICULDADE</td>\n",
       "    </tr>\n",
       "    <tr>\n",
       "      <th>4</th>\n",
       "      <td>949491</td>\n",
       "      <td>1</td>\n",
       "      <td>3</td>\n",
       "      <td>1</td>\n",
       "      <td>1</td>\n",
       "      <td>0.0</td>\n",
       "      <td>0.0</td>\n",
       "      <td>0.0</td>\n",
       "      <td>0.0</td>\n",
       "      <td>1.0</td>\n",
       "      <td>5</td>\n",
       "      <td>2</td>\n",
       "      <td>5</td>\n",
       "      <td>DIFICULDADE</td>\n",
       "    </tr>\n",
       "  </tbody>\n",
       "</table>\n",
       "</div>"
      ],
      "text/plain": [
       "   MATRICULA  REPROVACOES_DE  REPROVACOES_EM  REPROVACOES_MF  REPROVACOES_GO  \\\n",
       "0     502375               0               0               0               0   \n",
       "1     397093               0               0               0               0   \n",
       "2     915288               0               0               0               0   \n",
       "3     192652               1               3               1               1   \n",
       "4     949491               1               3               1               1   \n",
       "\n",
       "   NOTA_DE  NOTA_EM  NOTA_MF  NOTA_GO  INGLES  H_AULA_PRES  TAREFAS_ONLINE  \\\n",
       "0      6.2      5.8      4.6      5.9     0.0            2               4   \n",
       "1      6.0      6.2      5.2      4.5     1.0            2               4   \n",
       "2      7.3      6.7      7.1      7.2     0.0            5               0   \n",
       "3      0.0      0.0      0.0      0.0     1.0            4               4   \n",
       "4      0.0      0.0      0.0      0.0     1.0            5               2   \n",
       "\n",
       "   FALTAS       PERFIL  \n",
       "0       3       EXATAS  \n",
       "1       3       EXATAS  \n",
       "2       3      HUMANAS  \n",
       "3       4  DIFICULDADE  \n",
       "4       5  DIFICULDADE  "
      ]
     },
     "execution_count": 22,
     "metadata": {},
     "output_type": "execute_result"
    }
   ],
   "source": [
    "df_data_3.head()"
   ]
  },
  {
   "cell_type": "markdown",
   "metadata": {},
   "source": [
    "No exemplo fornecido, iremos utilizar todas as colunas, exceto a coluna **LABELS** como *features* (variáveis de entrada).\n",
    "\n",
    "A variável **LABELS** será a variável-alvo do modelo, conforme descrito no enunciado do desafio."
   ]
  },
  {
   "cell_type": "markdown",
   "metadata": {},
   "source": [
    "#### Definindo as features do modelo"
   ]
  },
  {
   "cell_type": "code",
   "execution_count": 23,
   "metadata": {},
   "outputs": [],
   "source": [
    "# Definição das colunas que serão features (nota-se que a coluna NOME não está presente)\n",
    "features = [\n",
    "    \"MATRICULA\", 'REPROVACOES_DE', 'REPROVACOES_EM', \"REPROVACOES_MF\", \"REPROVACOES_GO\",\n",
    "    \"NOTA_DE\", \"NOTA_EM\", \"NOTA_MF\", \"NOTA_GO\",\n",
    "    \"INGLES\", \"H_AULA_PRES\", \"TAREFAS_ONLINE\", \"FALTAS\", \n",
    "]\n",
    "\n",
    "# Definição da variável-alvo\n",
    "target = [\"PERFIL\"]\n",
    "\n",
    "# Preparação dos argumentos para os métodos da biblioteca ``scikit-learn``\n",
    "X = df_data_3[features]\n",
    "y = df_data_3[target]"
   ]
  },
  {
   "cell_type": "markdown",
   "metadata": {},
   "source": [
    "O conjunto de entrada (X):"
   ]
  },
  {
   "cell_type": "code",
   "execution_count": 24,
   "metadata": {},
   "outputs": [
    {
     "data": {
      "text/html": [
       "<div>\n",
       "<style scoped>\n",
       "    .dataframe tbody tr th:only-of-type {\n",
       "        vertical-align: middle;\n",
       "    }\n",
       "\n",
       "    .dataframe tbody tr th {\n",
       "        vertical-align: top;\n",
       "    }\n",
       "\n",
       "    .dataframe thead th {\n",
       "        text-align: right;\n",
       "    }\n",
       "</style>\n",
       "<table border=\"1\" class=\"dataframe\">\n",
       "  <thead>\n",
       "    <tr style=\"text-align: right;\">\n",
       "      <th></th>\n",
       "      <th>MATRICULA</th>\n",
       "      <th>REPROVACOES_DE</th>\n",
       "      <th>REPROVACOES_EM</th>\n",
       "      <th>REPROVACOES_MF</th>\n",
       "      <th>REPROVACOES_GO</th>\n",
       "      <th>NOTA_DE</th>\n",
       "      <th>NOTA_EM</th>\n",
       "      <th>NOTA_MF</th>\n",
       "      <th>NOTA_GO</th>\n",
       "      <th>INGLES</th>\n",
       "      <th>H_AULA_PRES</th>\n",
       "      <th>TAREFAS_ONLINE</th>\n",
       "      <th>FALTAS</th>\n",
       "    </tr>\n",
       "  </thead>\n",
       "  <tbody>\n",
       "    <tr>\n",
       "      <th>0</th>\n",
       "      <td>502375</td>\n",
       "      <td>0</td>\n",
       "      <td>0</td>\n",
       "      <td>0</td>\n",
       "      <td>0</td>\n",
       "      <td>6.2</td>\n",
       "      <td>5.8</td>\n",
       "      <td>4.6</td>\n",
       "      <td>5.9</td>\n",
       "      <td>0.0</td>\n",
       "      <td>2</td>\n",
       "      <td>4</td>\n",
       "      <td>3</td>\n",
       "    </tr>\n",
       "    <tr>\n",
       "      <th>1</th>\n",
       "      <td>397093</td>\n",
       "      <td>0</td>\n",
       "      <td>0</td>\n",
       "      <td>0</td>\n",
       "      <td>0</td>\n",
       "      <td>6.0</td>\n",
       "      <td>6.2</td>\n",
       "      <td>5.2</td>\n",
       "      <td>4.5</td>\n",
       "      <td>1.0</td>\n",
       "      <td>2</td>\n",
       "      <td>4</td>\n",
       "      <td>3</td>\n",
       "    </tr>\n",
       "    <tr>\n",
       "      <th>2</th>\n",
       "      <td>915288</td>\n",
       "      <td>0</td>\n",
       "      <td>0</td>\n",
       "      <td>0</td>\n",
       "      <td>0</td>\n",
       "      <td>7.3</td>\n",
       "      <td>6.7</td>\n",
       "      <td>7.1</td>\n",
       "      <td>7.2</td>\n",
       "      <td>0.0</td>\n",
       "      <td>5</td>\n",
       "      <td>0</td>\n",
       "      <td>3</td>\n",
       "    </tr>\n",
       "    <tr>\n",
       "      <th>3</th>\n",
       "      <td>192652</td>\n",
       "      <td>1</td>\n",
       "      <td>3</td>\n",
       "      <td>1</td>\n",
       "      <td>1</td>\n",
       "      <td>0.0</td>\n",
       "      <td>0.0</td>\n",
       "      <td>0.0</td>\n",
       "      <td>0.0</td>\n",
       "      <td>1.0</td>\n",
       "      <td>4</td>\n",
       "      <td>4</td>\n",
       "      <td>4</td>\n",
       "    </tr>\n",
       "    <tr>\n",
       "      <th>4</th>\n",
       "      <td>949491</td>\n",
       "      <td>1</td>\n",
       "      <td>3</td>\n",
       "      <td>1</td>\n",
       "      <td>1</td>\n",
       "      <td>0.0</td>\n",
       "      <td>0.0</td>\n",
       "      <td>0.0</td>\n",
       "      <td>0.0</td>\n",
       "      <td>1.0</td>\n",
       "      <td>5</td>\n",
       "      <td>2</td>\n",
       "      <td>5</td>\n",
       "    </tr>\n",
       "  </tbody>\n",
       "</table>\n",
       "</div>"
      ],
      "text/plain": [
       "   MATRICULA  REPROVACOES_DE  REPROVACOES_EM  REPROVACOES_MF  REPROVACOES_GO  \\\n",
       "0     502375               0               0               0               0   \n",
       "1     397093               0               0               0               0   \n",
       "2     915288               0               0               0               0   \n",
       "3     192652               1               3               1               1   \n",
       "4     949491               1               3               1               1   \n",
       "\n",
       "   NOTA_DE  NOTA_EM  NOTA_MF  NOTA_GO  INGLES  H_AULA_PRES  TAREFAS_ONLINE  \\\n",
       "0      6.2      5.8      4.6      5.9     0.0            2               4   \n",
       "1      6.0      6.2      5.2      4.5     1.0            2               4   \n",
       "2      7.3      6.7      7.1      7.2     0.0            5               0   \n",
       "3      0.0      0.0      0.0      0.0     1.0            4               4   \n",
       "4      0.0      0.0      0.0      0.0     1.0            5               2   \n",
       "\n",
       "   FALTAS  \n",
       "0       3  \n",
       "1       3  \n",
       "2       3  \n",
       "3       4  \n",
       "4       5  "
      ]
     },
     "execution_count": 24,
     "metadata": {},
     "output_type": "execute_result"
    }
   ],
   "source": [
    "X.head()"
   ]
  },
  {
   "cell_type": "markdown",
   "metadata": {},
   "source": [
    "As variáveis-alvo correspondentes (y):"
   ]
  },
  {
   "cell_type": "code",
   "execution_count": 25,
   "metadata": {},
   "outputs": [
    {
     "data": {
      "text/html": [
       "<div>\n",
       "<style scoped>\n",
       "    .dataframe tbody tr th:only-of-type {\n",
       "        vertical-align: middle;\n",
       "    }\n",
       "\n",
       "    .dataframe tbody tr th {\n",
       "        vertical-align: top;\n",
       "    }\n",
       "\n",
       "    .dataframe thead th {\n",
       "        text-align: right;\n",
       "    }\n",
       "</style>\n",
       "<table border=\"1\" class=\"dataframe\">\n",
       "  <thead>\n",
       "    <tr style=\"text-align: right;\">\n",
       "      <th></th>\n",
       "      <th>PERFIL</th>\n",
       "    </tr>\n",
       "  </thead>\n",
       "  <tbody>\n",
       "    <tr>\n",
       "      <th>0</th>\n",
       "      <td>EXATAS</td>\n",
       "    </tr>\n",
       "    <tr>\n",
       "      <th>1</th>\n",
       "      <td>EXATAS</td>\n",
       "    </tr>\n",
       "    <tr>\n",
       "      <th>2</th>\n",
       "      <td>HUMANAS</td>\n",
       "    </tr>\n",
       "    <tr>\n",
       "      <th>3</th>\n",
       "      <td>DIFICULDADE</td>\n",
       "    </tr>\n",
       "    <tr>\n",
       "      <th>4</th>\n",
       "      <td>DIFICULDADE</td>\n",
       "    </tr>\n",
       "  </tbody>\n",
       "</table>\n",
       "</div>"
      ],
      "text/plain": [
       "        PERFIL\n",
       "0       EXATAS\n",
       "1       EXATAS\n",
       "2      HUMANAS\n",
       "3  DIFICULDADE\n",
       "4  DIFICULDADE"
      ]
     },
     "execution_count": 25,
     "metadata": {},
     "output_type": "execute_result"
    }
   ],
   "source": [
    "y.head()"
   ]
  },
  {
   "cell_type": "markdown",
   "metadata": {},
   "source": [
    "#### Separando o dataset em um conjunto de treino e um conjunto de teste"
   ]
  },
  {
   "cell_type": "markdown",
   "metadata": {},
   "source": [
    "Iremos separar o dataset fornecido em dois grupos: um para treinar nosso modelo, e outro para testarmos o resultado através de um teste cego. A separação do dataset pode ser feita facilmente com o método *train_test_split()* do scikit-learn:"
   ]
  },
  {
   "cell_type": "code",
   "execution_count": 26,
   "metadata": {},
   "outputs": [],
   "source": [
    "# Separação dos dados em um conjunto de treino e um conjunto de teste\n",
    "X_train, X_test, y_train, y_test = train_test_split(X, y, test_size=0.3, random_state=337)"
   ]
  },
  {
   "cell_type": "markdown",
   "metadata": {},
   "source": [
    "<hr>"
   ]
  },
  {
   "cell_type": "markdown",
   "metadata": {},
   "source": [
    "#### Criando um modelo baseado em árvores de decisão"
   ]
  },
  {
   "cell_type": "markdown",
   "metadata": {},
   "source": [
    "No exemplo fornecido iremos criar um classificador baseado em **árvores de decisão**.\n",
    "\n",
    "Material teórico sobre árvores de decisão na documentação oficial do scikit-learn: https://scikit-learn.org/stable/modules/tree.html\n",
    "\n",
    "O primeiro passo é basicamente instanciar um objeto *DecisionTreeClassifier()* da biblioteca scikit-learn."
   ]
  },
  {
   "cell_type": "code",
   "execution_count": 71,
   "metadata": {},
   "outputs": [],
   "source": [
    "# Criação de uma árvore de decisão com a biblioteca ``scikit-learn``:\n",
    "decision_tree = DecisionTreeClassifier(max_depth = 4)"
   ]
  },
  {
   "cell_type": "markdown",
   "metadata": {},
   "source": [
    "#### Testando o classificador baseado em árvore de decisão"
   ]
  },
  {
   "cell_type": "code",
   "execution_count": 72,
   "metadata": {},
   "outputs": [
    {
     "data": {
      "text/plain": [
       "DecisionTreeClassifier(max_depth=4)"
      ]
     },
     "execution_count": 72,
     "metadata": {},
     "output_type": "execute_result"
    }
   ],
   "source": [
    "# Treino do modelo (é chamado o método *fit()* com os conjuntos de treino)\n",
    "decision_tree.fit(\n",
    "    X_train,\n",
    "    y_train\n",
    ")"
   ]
  },
  {
   "cell_type": "markdown",
   "metadata": {},
   "source": [
    "#### Execução de predições e avaliação da árvore de decisão"
   ]
  },
  {
   "cell_type": "code",
   "execution_count": 73,
   "metadata": {},
   "outputs": [],
   "source": [
    "# Realização de teste cego no modelo criado\n",
    "y_pred = decision_tree.predict(X_test)"
   ]
  },
  {
   "cell_type": "code",
   "execution_count": 74,
   "metadata": {},
   "outputs": [
    {
     "data": {
      "text/html": [
       "<div>\n",
       "<style scoped>\n",
       "    .dataframe tbody tr th:only-of-type {\n",
       "        vertical-align: middle;\n",
       "    }\n",
       "\n",
       "    .dataframe tbody tr th {\n",
       "        vertical-align: top;\n",
       "    }\n",
       "\n",
       "    .dataframe thead th {\n",
       "        text-align: right;\n",
       "    }\n",
       "</style>\n",
       "<table border=\"1\" class=\"dataframe\">\n",
       "  <thead>\n",
       "    <tr style=\"text-align: right;\">\n",
       "      <th></th>\n",
       "      <th>MATRICULA</th>\n",
       "      <th>REPROVACOES_DE</th>\n",
       "      <th>REPROVACOES_EM</th>\n",
       "      <th>REPROVACOES_MF</th>\n",
       "      <th>REPROVACOES_GO</th>\n",
       "      <th>NOTA_DE</th>\n",
       "      <th>NOTA_EM</th>\n",
       "      <th>NOTA_MF</th>\n",
       "      <th>NOTA_GO</th>\n",
       "      <th>INGLES</th>\n",
       "      <th>H_AULA_PRES</th>\n",
       "      <th>TAREFAS_ONLINE</th>\n",
       "      <th>FALTAS</th>\n",
       "    </tr>\n",
       "  </thead>\n",
       "  <tbody>\n",
       "    <tr>\n",
       "      <th>13951</th>\n",
       "      <td>829145</td>\n",
       "      <td>0</td>\n",
       "      <td>0</td>\n",
       "      <td>0</td>\n",
       "      <td>0</td>\n",
       "      <td>6.7</td>\n",
       "      <td>6.9</td>\n",
       "      <td>7.6</td>\n",
       "      <td>7.0</td>\n",
       "      <td>0.0</td>\n",
       "      <td>15</td>\n",
       "      <td>5</td>\n",
       "      <td>3</td>\n",
       "    </tr>\n",
       "    <tr>\n",
       "      <th>8767</th>\n",
       "      <td>209717</td>\n",
       "      <td>0</td>\n",
       "      <td>0</td>\n",
       "      <td>0</td>\n",
       "      <td>0</td>\n",
       "      <td>6.3</td>\n",
       "      <td>6.3</td>\n",
       "      <td>5.5</td>\n",
       "      <td>6.4</td>\n",
       "      <td>0.0</td>\n",
       "      <td>5</td>\n",
       "      <td>5</td>\n",
       "      <td>3</td>\n",
       "    </tr>\n",
       "    <tr>\n",
       "      <th>9467</th>\n",
       "      <td>457493</td>\n",
       "      <td>0</td>\n",
       "      <td>0</td>\n",
       "      <td>0</td>\n",
       "      <td>0</td>\n",
       "      <td>5.9</td>\n",
       "      <td>5.0</td>\n",
       "      <td>5.2</td>\n",
       "      <td>5.1</td>\n",
       "      <td>1.0</td>\n",
       "      <td>8</td>\n",
       "      <td>2</td>\n",
       "      <td>1</td>\n",
       "    </tr>\n",
       "    <tr>\n",
       "      <th>5334</th>\n",
       "      <td>545225</td>\n",
       "      <td>0</td>\n",
       "      <td>0</td>\n",
       "      <td>0</td>\n",
       "      <td>0</td>\n",
       "      <td>6.6</td>\n",
       "      <td>6.9</td>\n",
       "      <td>5.3</td>\n",
       "      <td>6.0</td>\n",
       "      <td>0.0</td>\n",
       "      <td>4</td>\n",
       "      <td>5</td>\n",
       "      <td>3</td>\n",
       "    </tr>\n",
       "    <tr>\n",
       "      <th>17674</th>\n",
       "      <td>774822</td>\n",
       "      <td>0</td>\n",
       "      <td>0</td>\n",
       "      <td>0</td>\n",
       "      <td>0</td>\n",
       "      <td>4.9</td>\n",
       "      <td>6.1</td>\n",
       "      <td>6.0</td>\n",
       "      <td>5.2</td>\n",
       "      <td>0.0</td>\n",
       "      <td>2</td>\n",
       "      <td>5</td>\n",
       "      <td>6</td>\n",
       "    </tr>\n",
       "  </tbody>\n",
       "</table>\n",
       "</div>"
      ],
      "text/plain": [
       "       MATRICULA  REPROVACOES_DE  REPROVACOES_EM  REPROVACOES_MF  \\\n",
       "13951     829145               0               0               0   \n",
       "8767      209717               0               0               0   \n",
       "9467      457493               0               0               0   \n",
       "5334      545225               0               0               0   \n",
       "17674     774822               0               0               0   \n",
       "\n",
       "       REPROVACOES_GO  NOTA_DE  NOTA_EM  NOTA_MF  NOTA_GO  INGLES  \\\n",
       "13951               0      6.7      6.9      7.6      7.0     0.0   \n",
       "8767                0      6.3      6.3      5.5      6.4     0.0   \n",
       "9467                0      5.9      5.0      5.2      5.1     1.0   \n",
       "5334                0      6.6      6.9      5.3      6.0     0.0   \n",
       "17674               0      4.9      6.1      6.0      5.2     0.0   \n",
       "\n",
       "       H_AULA_PRES  TAREFAS_ONLINE  FALTAS  \n",
       "13951           15               5       3  \n",
       "8767             5               5       3  \n",
       "9467             8               2       1  \n",
       "5334             4               5       3  \n",
       "17674            2               5       6  "
      ]
     },
     "execution_count": 74,
     "metadata": {},
     "output_type": "execute_result"
    }
   ],
   "source": [
    "X_test.head()"
   ]
  },
  {
   "cell_type": "code",
   "execution_count": 75,
   "metadata": {},
   "outputs": [
    {
     "name": "stdout",
     "output_type": "stream",
     "text": [
      "['HUMANAS' 'EXATAS' 'DIFICULDADE' ... 'EXATAS' 'EXATAS' 'EXATAS']\n"
     ]
    }
   ],
   "source": [
    "print(y_pred)"
   ]
  },
  {
   "cell_type": "code",
   "execution_count": 76,
   "metadata": {},
   "outputs": [
    {
     "name": "stdout",
     "output_type": "stream",
     "text": [
      "Acurácia: 81.0%\n"
     ]
    }
   ],
   "source": [
    "from sklearn.metrics import accuracy_score\n",
    "\n",
    "# Acurácia alcançada pela árvore de decisão\n",
    "print(\"Acurácia: {}%\".format(100*round(accuracy_score(y_test, y_pred), 2)))"
   ]
  },
  {
   "cell_type": "markdown",
   "metadata": {},
   "source": [
    "<hr>"
   ]
  },
  {
   "cell_type": "markdown",
   "metadata": {},
   "source": [
    "Neste notebook foi demonstrado como trabalhar com transformações e modelos com a biblioteca scikit-learn. É recomendado que o participante realize seus experimentos editando o código fornecido aqui até que um modelo com acurácia elevada seja alcançado.\n",
    "\n",
    "Quando você estiver satisfeito com seu modelo, pode passar para a segunda etapa do desafio -- encapsular seu modelo como uma API REST pronta para uso com o Watson Machine Learning!\n",
    "\n",
    "O notebook para a segunda etapa já se encontra neste projeto, basta acessar a aba **ASSETS** e inicializá-lo! Não se esqueca de antes desligar o Kernel deste notebook para reduzir o consumo de sua camada grátis do IBM Cloud Pak for Data."
   ]
  },
  {
   "cell_type": "markdown",
   "metadata": {},
   "source": [
    "## Meus testes"
   ]
  },
  {
   "cell_type": "code",
   "execution_count": 41,
   "metadata": {},
   "outputs": [],
   "source": [
    "# Separação dos dados em um conjunto de treino e um conjunto de teste (importante usar estratificado, pois é desbalanceado)\n",
    "X_train, X_test, y_train, y_test = train_test_split(X, y, test_size=0.3, random_state=337, stratify = y)"
   ]
  },
  {
   "cell_type": "code",
   "execution_count": 60,
   "metadata": {},
   "outputs": [
    {
     "data": {
      "text/html": [
       "<div>\n",
       "<style scoped>\n",
       "    .dataframe tbody tr th:only-of-type {\n",
       "        vertical-align: middle;\n",
       "    }\n",
       "\n",
       "    .dataframe tbody tr th {\n",
       "        vertical-align: top;\n",
       "    }\n",
       "\n",
       "    .dataframe thead th {\n",
       "        text-align: right;\n",
       "    }\n",
       "</style>\n",
       "<table border=\"1\" class=\"dataframe\">\n",
       "  <thead>\n",
       "    <tr style=\"text-align: right;\">\n",
       "      <th></th>\n",
       "      <th>MATRICULA</th>\n",
       "      <th>REPROVACOES_DE</th>\n",
       "      <th>REPROVACOES_EM</th>\n",
       "      <th>REPROVACOES_MF</th>\n",
       "      <th>REPROVACOES_GO</th>\n",
       "      <th>NOTA_DE</th>\n",
       "      <th>NOTA_EM</th>\n",
       "      <th>NOTA_MF</th>\n",
       "      <th>NOTA_GO</th>\n",
       "      <th>INGLES</th>\n",
       "      <th>H_AULA_PRES</th>\n",
       "      <th>TAREFAS_ONLINE</th>\n",
       "      <th>FALTAS</th>\n",
       "    </tr>\n",
       "  </thead>\n",
       "  <tbody>\n",
       "    <tr>\n",
       "      <th>17842</th>\n",
       "      <td>-0.462728</td>\n",
       "      <td>-0.393753</td>\n",
       "      <td>-0.393483</td>\n",
       "      <td>-0.43977</td>\n",
       "      <td>-0.440814</td>\n",
       "      <td>0.239381</td>\n",
       "      <td>-0.112003</td>\n",
       "      <td>0.246267</td>\n",
       "      <td>-1.292446</td>\n",
       "      <td>-1.058721</td>\n",
       "      <td>-0.755990</td>\n",
       "      <td>1.014927</td>\n",
       "      <td>-0.643574</td>\n",
       "    </tr>\n",
       "    <tr>\n",
       "      <th>3523</th>\n",
       "      <td>-0.857755</td>\n",
       "      <td>-0.393753</td>\n",
       "      <td>-0.393483</td>\n",
       "      <td>-0.43977</td>\n",
       "      <td>-0.440814</td>\n",
       "      <td>0.239381</td>\n",
       "      <td>-0.191391</td>\n",
       "      <td>0.392949</td>\n",
       "      <td>0.558388</td>\n",
       "      <td>0.944536</td>\n",
       "      <td>-0.512940</td>\n",
       "      <td>-1.144574</td>\n",
       "      <td>1.147092</td>\n",
       "    </tr>\n",
       "    <tr>\n",
       "      <th>6422</th>\n",
       "      <td>0.177488</td>\n",
       "      <td>-0.393753</td>\n",
       "      <td>-0.393483</td>\n",
       "      <td>-0.43977</td>\n",
       "      <td>-0.440814</td>\n",
       "      <td>-0.158092</td>\n",
       "      <td>-0.151697</td>\n",
       "      <td>-0.047098</td>\n",
       "      <td>0.209174</td>\n",
       "      <td>-1.058721</td>\n",
       "      <td>0.945361</td>\n",
       "      <td>-1.684449</td>\n",
       "      <td>-0.046685</td>\n",
       "    </tr>\n",
       "    <tr>\n",
       "      <th>4054</th>\n",
       "      <td>-0.606972</td>\n",
       "      <td>-0.393753</td>\n",
       "      <td>-0.393483</td>\n",
       "      <td>-0.43977</td>\n",
       "      <td>-0.440814</td>\n",
       "      <td>-0.158092</td>\n",
       "      <td>0.245245</td>\n",
       "      <td>0.026243</td>\n",
       "      <td>0.593310</td>\n",
       "      <td>0.944536</td>\n",
       "      <td>-0.999041</td>\n",
       "      <td>-1.144574</td>\n",
       "      <td>1.743981</td>\n",
       "    </tr>\n",
       "    <tr>\n",
       "      <th>4657</th>\n",
       "      <td>1.344071</td>\n",
       "      <td>-0.393753</td>\n",
       "      <td>-0.393483</td>\n",
       "      <td>-0.43977</td>\n",
       "      <td>-0.440814</td>\n",
       "      <td>-0.197839</td>\n",
       "      <td>0.086468</td>\n",
       "      <td>-0.047098</td>\n",
       "      <td>0.244096</td>\n",
       "      <td>-1.058721</td>\n",
       "      <td>-0.755990</td>\n",
       "      <td>-0.604699</td>\n",
       "      <td>1.147092</td>\n",
       "    </tr>\n",
       "  </tbody>\n",
       "</table>\n",
       "</div>"
      ],
      "text/plain": [
       "       MATRICULA  REPROVACOES_DE  REPROVACOES_EM  REPROVACOES_MF  \\\n",
       "17842  -0.462728       -0.393753       -0.393483        -0.43977   \n",
       "3523   -0.857755       -0.393753       -0.393483        -0.43977   \n",
       "6422    0.177488       -0.393753       -0.393483        -0.43977   \n",
       "4054   -0.606972       -0.393753       -0.393483        -0.43977   \n",
       "4657    1.344071       -0.393753       -0.393483        -0.43977   \n",
       "\n",
       "       REPROVACOES_GO   NOTA_DE   NOTA_EM   NOTA_MF   NOTA_GO    INGLES  \\\n",
       "17842       -0.440814  0.239381 -0.112003  0.246267 -1.292446 -1.058721   \n",
       "3523        -0.440814  0.239381 -0.191391  0.392949  0.558388  0.944536   \n",
       "6422        -0.440814 -0.158092 -0.151697 -0.047098  0.209174 -1.058721   \n",
       "4054        -0.440814 -0.158092  0.245245  0.026243  0.593310  0.944536   \n",
       "4657        -0.440814 -0.197839  0.086468 -0.047098  0.244096 -1.058721   \n",
       "\n",
       "       H_AULA_PRES  TAREFAS_ONLINE    FALTAS  \n",
       "17842    -0.755990        1.014927 -0.643574  \n",
       "3523     -0.512940       -1.144574  1.147092  \n",
       "6422      0.945361       -1.684449 -0.046685  \n",
       "4054     -0.999041       -1.144574  1.743981  \n",
       "4657     -0.755990       -0.604699  1.147092  "
      ]
     },
     "execution_count": 60,
     "metadata": {},
     "output_type": "execute_result"
    }
   ],
   "source": [
    "from sklearn.svm import SVC\n",
    "from sklearn.preprocessing import StandardScaler\n",
    "\n",
    "scaler = StandardScaler()\n",
    "scaler.fit(X_train)\n",
    "X_train_escalado = scaler.transform(X_train)\n",
    "X_train_escalado = pd.DataFrame(X_train_escalado, index = X_train.index, columns = X_train.columns)\n",
    "X_train_escalado.head()"
   ]
  },
  {
   "cell_type": "code",
   "execution_count": 61,
   "metadata": {},
   "outputs": [
    {
     "data": {
      "text/plain": [
       "SVC()"
      ]
     },
     "execution_count": 61,
     "metadata": {},
     "output_type": "execute_result"
    }
   ],
   "source": [
    "model = SVC()\n",
    "model.fit(X_train_escalado, y_train.values.ravel())"
   ]
  },
  {
   "cell_type": "code",
   "execution_count": 62,
   "metadata": {},
   "outputs": [],
   "source": [
    "y_pred = model.predict(scaler.transform(X_test))"
   ]
  },
  {
   "cell_type": "code",
   "execution_count": 63,
   "metadata": {},
   "outputs": [
    {
     "name": "stdout",
     "output_type": "stream",
     "text": [
      "Acurácia: 80.0%\n"
     ]
    }
   ],
   "source": [
    "print(\"Acurácia: {}%\".format(100*round(accuracy_score(y_test, y_pred), 2)))"
   ]
  },
  {
   "cell_type": "code",
   "execution_count": null,
   "metadata": {},
   "outputs": [],
   "source": []
  }
 ],
 "metadata": {
  "kernelspec": {
   "display_name": "Python 3",
   "language": "python",
   "name": "python3"
  },
  "language_info": {
   "codemirror_mode": {
    "name": "ipython",
    "version": 3
   },
   "file_extension": ".py",
   "mimetype": "text/x-python",
   "name": "python",
   "nbconvert_exporter": "python",
   "pygments_lexer": "ipython3",
   "version": "3.6.11"
  }
 },
 "nbformat": 4,
 "nbformat_minor": 1
}
